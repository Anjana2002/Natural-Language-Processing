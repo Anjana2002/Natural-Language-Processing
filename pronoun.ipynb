{
 "cells": [
  {
   "cell_type": "code",
   "execution_count": 2,
   "id": "3f6857ac-d4b9-44f2-a546-dcd333da90c7",
   "metadata": {},
   "outputs": [
    {
     "name": "stderr",
     "output_type": "stream",
     "text": [
      "[nltk_data] Downloading package averaged_perceptron_tagger_eng to\n",
      "[nltk_data]     /home/anjana/nltk_data...\n",
      "[nltk_data]   Package averaged_perceptron_tagger_eng is already up-to-\n",
      "[nltk_data]       date!\n"
     ]
    },
    {
     "data": {
      "text/plain": [
       "True"
      ]
     },
     "execution_count": 2,
     "metadata": {},
     "output_type": "execute_result"
    }
   ],
   "source": [
    "import re\n",
    "import nltk\n",
    "from nltk import word_tokenize, sent_tokenize, pos_tag\n",
    "nltk.download('averaged_perceptron_tagger_eng')\n"
   ]
  },
  {
   "cell_type": "code",
   "execution_count": 7,
   "id": "a01a874f-7ab6-4114-a0a1-096492a85f92",
   "metadata": {},
   "outputs": [],
   "source": [
    "def resolve_pronouns(text):\n",
    "    sentences = sent_tokenize(text)\n",
    "    entities = []\n",
    "    resolved_text = []\n",
    "    for sentence in sentences:\n",
    "        words = word_tokenize(sentence)\n",
    "        tagged = pos_tag(words)\n",
    "        resolved_sen = []\n",
    "\n",
    "        for i, (word, tag) in enumerate(tagged):\n",
    "            if tag in ['PRP', 'PRP$']:\n",
    "                if entities:\n",
    "                    resolved_word = entities[-1]\n",
    "                    if word.lower() in ['his', 'her', 'their']:\n",
    "                        resolved_word += \"'s\"\n",
    "                    resolved_sen.append(resolved_word)\n",
    "\n",
    "                else:\n",
    "                    resolved_sen.append(word)\n",
    "            else:\n",
    "                if tag in ['NNP', 'NNPS']:\n",
    "                    entities.append(word)\n",
    "                resolved_sen.append(word)\n",
    "        resolved_text.append(\" \".join(resolved_sen))\n",
    "    return \" \".join(resolved_text)\n",
    "                "
   ]
  },
  {
   "cell_type": "code",
   "execution_count": 11,
   "id": "8f6a6397-1c15-4927-b1e4-3f9108a96c38",
   "metadata": {},
   "outputs": [
    {
     "name": "stdout",
     "output_type": "stream",
     "text": [
      "Original Text: John went to the store. He bought some groceries him. Mary saw him and waved at him.\n",
      "Resolved Text: John went to the store . John bought some groceries John . Mary saw Mary and waved at Mary .\n"
     ]
    }
   ],
   "source": [
    "text = \"John went to the store. He bought some groceries him. Mary saw him and waved at him.\"\n",
    "resolved_text = resolve_pronouns(text)\n",
    "print(\"Original Text:\", text)\n",
    "print(\"Resolved Text:\", resolved_text)"
   ]
  }
 ],
 "metadata": {
  "kernelspec": {
   "display_name": "Python 3 (ipykernel)",
   "language": "python",
   "name": "python3"
  },
  "language_info": {
   "codemirror_mode": {
    "name": "ipython",
    "version": 3
   },
   "file_extension": ".py",
   "mimetype": "text/x-python",
   "name": "python",
   "nbconvert_exporter": "python",
   "pygments_lexer": "ipython3",
   "version": "3.10.12"
  }
 },
 "nbformat": 4,
 "nbformat_minor": 5
}
