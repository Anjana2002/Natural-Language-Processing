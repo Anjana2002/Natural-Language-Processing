{
 "cells": [
  {
   "cell_type": "code",
   "execution_count": 7,
   "id": "c6453e4b-5e19-41e8-9c09-adbf5adab91f",
   "metadata": {},
   "outputs": [],
   "source": [
    "import nltk\n",
    "nltk.data.path.append('\\home\\anjana\\nltk_data')"
   ]
  },
  {
   "cell_type": "code",
   "execution_count": 9,
   "id": "fcd30986-8258-4b6d-a757-83e8ea45605f",
   "metadata": {},
   "outputs": [],
   "source": [
    "def pos_tagging(sentence):\n",
    "    tokens = nltk.word_tokenize(sentence)\n",
    "    print(tokens)\n",
    "    pos_tags = nltk.pos_tag(tokens)\n",
    "    print(pos_tags)"
   ]
  },
  {
   "cell_type": "code",
   "execution_count": 15,
   "id": "557ecc0d-48d1-4230-ab88-cbf5318d8201",
   "metadata": {},
   "outputs": [
    {
     "name": "stdin",
     "output_type": "stream",
     "text": [
      "Enter the sentence to tag:  hi. i am Anjana\n"
     ]
    },
    {
     "name": "stdout",
     "output_type": "stream",
     "text": [
      "['hi', '.', 'i', 'am', 'Anjana']\n",
      "[('hi', 'NN'), ('.', '.'), ('i', 'VB'), ('am', 'VBP'), ('Anjana', 'NNP')]\n"
     ]
    }
   ],
   "source": [
    "user_input = input(\"Enter the sentence to tag: \")\n",
    "# sentence = nltk.sent_tokenize(user_input)\n",
    "# for sen in sentence:\n",
    "#     print(sen)\n",
    "#     pos_tagging(sen)\n",
    "pos_tagging(user_input)"
   ]
  }
 ],
 "metadata": {
  "kernelspec": {
   "display_name": "Python 3 (ipykernel)",
   "language": "python",
   "name": "python3"
  },
  "language_info": {
   "codemirror_mode": {
    "name": "ipython",
    "version": 3
   },
   "file_extension": ".py",
   "mimetype": "text/x-python",
   "name": "python",
   "nbconvert_exporter": "python",
   "pygments_lexer": "ipython3",
   "version": "3.10.12"
  }
 },
 "nbformat": 4,
 "nbformat_minor": 5
}
