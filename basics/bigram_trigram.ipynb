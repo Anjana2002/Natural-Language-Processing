{
 "cells": [
  {
   "cell_type": "code",
   "execution_count": 25,
   "id": "3cd23d15-aaef-4b15-b4d1-b741b081693b",
   "metadata": {},
   "outputs": [],
   "source": [
    "import nltk\n",
    "nltk.data.path.append('\\home\\anjana\\nltk_data')\n",
    "from collections import Counter\n",
    "from nltk.util import ngrams\n",
    "from nltk.tokenize import word_tokenize"
   ]
  },
  {
   "cell_type": "code",
   "execution_count": 26,
   "id": "27090de8-b13b-4d0b-8f06-71a49a603e7a",
   "metadata": {},
   "outputs": [
    {
     "name": "stdout",
     "output_type": "stream",
     "text": [
      "['the', 'cat', 'sat', 'on', 'the', 'mat', '.', 'the', 'cat', 'is', 'happy']\n"
     ]
    }
   ],
   "source": [
    "text = \"The cat sat on the mat. the cat is happy\"\n",
    "tokens = word_tokenize(text.lower())\n",
    "print(tokens)"
   ]
  },
  {
   "cell_type": "code",
   "execution_count": 28,
   "id": "5abb4731-f3a0-4ffb-9180-c2dd9d60fcac",
   "metadata": {},
   "outputs": [
    {
     "name": "stdout",
     "output_type": "stream",
     "text": [
      "Counter({('the',): 3, ('cat',): 2, ('sat',): 1, ('on',): 1, ('mat',): 1, ('.',): 1, ('is',): 1, ('happy',): 1})\n",
      "Counter({('the', 'cat'): 2, ('cat', 'sat'): 1, ('sat', 'on'): 1, ('on', 'the'): 1, ('the', 'mat'): 1, ('mat', '.'): 1, ('.', 'the'): 1, ('cat', 'is'): 1, ('is', 'happy'): 1})\n",
      "Counter({('the', 'cat', 'sat'): 1, ('cat', 'sat', 'on'): 1, ('sat', 'on', 'the'): 1, ('on', 'the', 'mat'): 1, ('the', 'mat', '.'): 1, ('mat', '.', 'the'): 1, ('.', 'the', 'cat'): 1, ('the', 'cat', 'is'): 1, ('cat', 'is', 'happy'): 1})\n"
     ]
    }
   ],
   "source": [
    "unigram = list(ngrams(tokens, 1))\n",
    "bigram = list(ngrams(tokens, 2))\n",
    "trigram = list(ngrams(tokens, 3))\n",
    "\n",
    "unigram_counts = Counter(unigram)\n",
    "bigram_counts = Counter(bigram)\n",
    "trigram_counts = Counter(trigram)\n",
    "\n",
    "print(unigram_counts)\n",
    "print(bigram_counts)\n",
    "print(trigram_counts)"
   ]
  },
  {
   "cell_type": "code",
   "execution_count": 30,
   "id": "fe9a3f56-7689-4c76-b0b7-a040514dfc66",
   "metadata": {},
   "outputs": [
    {
     "name": "stdout",
     "output_type": "stream",
     "text": [
      "('the', 'cat') 0.6666666666666666\n",
      "('cat', 'sat') 0.5\n",
      "('sat', 'on') 1.0\n",
      "('on', 'the') 1.0\n",
      "('the', 'mat') 0.3333333333333333\n",
      "('mat', '.') 1.0\n",
      "('.', 'the') 1.0\n",
      "('cat', 'is') 0.5\n",
      "('is', 'happy') 1.0\n"
     ]
    }
   ],
   "source": [
    "bigram_prob = {\n",
    "    bigram : count / unigram_counts[(bigram[0],)]\n",
    "    for bigram, count in bigram_counts.items()\n",
    "}\n",
    "for bigram, prob in bigram_prob.items():\n",
    "    print(bigram,prob)"
   ]
  },
  {
   "cell_type": "code",
   "execution_count": 32,
   "id": "58f30e18-a8a4-4061-89d4-47b05e53f78e",
   "metadata": {},
   "outputs": [
    {
     "name": "stdout",
     "output_type": "stream",
     "text": [
      "('the', 'cat', 'sat') 0.5\n",
      "('cat', 'sat', 'on') 1.0\n",
      "('sat', 'on', 'the') 1.0\n",
      "('on', 'the', 'mat') 1.0\n",
      "('the', 'mat', '.') 1.0\n",
      "('mat', '.', 'the') 1.0\n",
      "('.', 'the', 'cat') 1.0\n",
      "('the', 'cat', 'is') 0.5\n",
      "('cat', 'is', 'happy') 1.0\n"
     ]
    }
   ],
   "source": [
    "trigram_prob ={\n",
    "    trigram : count/ bigram_counts[(trigram[0], trigram[1])]\n",
    "    for trigram, count in trigram_counts.items()\n",
    "}\n",
    "for trigram, prob in trigram_prob.items():\n",
    "    print(trigram, prob)"
   ]
  }
 ],
 "metadata": {
  "kernelspec": {
   "display_name": "Python 3 (ipykernel)",
   "language": "python",
   "name": "python3"
  },
  "language_info": {
   "codemirror_mode": {
    "name": "ipython",
    "version": 3
   },
   "file_extension": ".py",
   "mimetype": "text/x-python",
   "name": "python",
   "nbconvert_exporter": "python",
   "pygments_lexer": "ipython3",
   "version": "3.10.12"
  }
 },
 "nbformat": 4,
 "nbformat_minor": 5
}
