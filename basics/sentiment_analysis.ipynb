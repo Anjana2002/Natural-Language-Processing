{
        "cells": [
                {
                        "cell_type": "code",
                        "execution_count": 15,
                        "metadata": {},
                        "outputs": [],
                        "source": [
                                "#Implement a sentiment analysis classifier using a machine learning approach and evaluate its accuracy on a labelled dataset.\n",
                                "import pandas as pd\n",
                                "from textblob import TextBlob\n",
                                "from sklearn.metrics import accuracy_score, classification_report"
                        ]
                },
                {
                        "cell_type": "code",
                        "execution_count": 16,
                        "metadata": {},
                        "outputs": [],
                        "source": [
                                "def get_sentiment(text):\n",
                                "    blob = TextBlob(text)\n",
                                "\n",
                                "    pol = blob.sentiment.polarity\n",
                                "    sub = blob.sentiment.subjectivity\n",
                                "    if pol > 0:\n",
                                "        sentiment = \"positive\"\n",
                                "    elif pol < 0:\n",
                                "        sentiment = 'negative'\n",
                                "    else:\n",
                                "        sentiment = 'neutral'\n",
                                "    return sentiment, pol, sub\n"
                        ]
                },
                {
                        "cell_type": "code",
                        "execution_count": 17,
                        "metadata": {},
                        "outputs": [],
                        "source": [
                                "data = {\n",
                                "    'text' : [\n",
                                "            \"I love this movie, it's fantastic!\",\n",
                                "            \"This movie was terrible, I hated it.\",\n",
                                "            \"It was an okay movie, not great but not bad.\",\n",
                                "            \"A brilliant performance by the lead actor!\",\n",
                                "            \"I hated this movie, it was awful.\",\n",
                                "            \"Such a wonderful experience, highly recommended!\"\n",
                                "    ],\n",
                                "    'label' : ['positive', 'negative', 'neutral', 'positive', 'negative', 'positive']\n",
                                "}"
                        ]
                },
                {
                        "cell_type": "code",
                        "execution_count": 18,
                        "metadata": {},
                        "outputs": [],
                        "source": [
                                "df = pd.DataFrame(data)\n",
                                "df['predicted_sentiment'], _, _ = zip(*df['text'].apply(get_sentiment))"
                        ]
                },
                {
                        "cell_type": "code",
                        "execution_count": 19,
                        "metadata": {},
                        "outputs": [
                                {
                                        "name": "stdout",
                                        "output_type": "stream",
                                        "text": [
                                                "                                               text     label  \\\n",
                                                "0                I love this movie, it's fantastic!  positive   \n",
                                                "1              This movie was terrible, I hated it.  negative   \n",
                                                "2      It was an okay movie, not great but not bad.   neutral   \n",
                                                "3        A brilliant performance by the lead actor!  positive   \n",
                                                "4                 I hated this movie, it was awful.  negative   \n",
                                                "5  Such a wonderful experience, highly recommended!  positive   \n",
                                                "\n",
                                                "  predicted_sentiment  \n",
                                                "0            positive  \n",
                                                "1            negative  \n",
                                                "2            positive  \n",
                                                "3            positive  \n",
                                                "4            negative  \n",
                                                "5            positive  \n"
                                        ]
                                }
                        ],
                        "source": [
                                "print(df[['text', 'label', 'predicted_sentiment']])\n"
                        ]
                },
                {
                        "cell_type": "code",
                        "execution_count": 20,
                        "metadata": {},
                        "outputs": [
                                {
                                        "name": "stdout",
                                        "output_type": "stream",
                                        "text": [
                                                "Accuracy: 0.83\n"
                                        ]
                                }
                        ],
                        "source": [
                                "accuracy = accuracy_score(df['label'], df['predicted_sentiment'])\n",
                                "print(f\"Accuracy: {accuracy:.2f}\")"
                        ]
                },
                {
                        "cell_type": "code",
                        "execution_count": 21,
                        "metadata": {},
                        "outputs": [
                                {
                                        "name": "stdout",
                                        "output_type": "stream",
                                        "text": [
                                                "              precision    recall  f1-score   support\n",
                                                "\n",
                                                "    negative       1.00      1.00      1.00         2\n",
                                                "     neutral       0.00      0.00      0.00         1\n",
                                                "    positive       0.75      1.00      0.86         3\n",
                                                "\n",
                                                "    accuracy                           0.83         6\n",
                                                "   macro avg       0.58      0.67      0.62         6\n",
                                                "weighted avg       0.71      0.83      0.76         6\n",
                                                "\n"
                                        ]
                                },
                                {
                                        "name": "stderr",
                                        "output_type": "stream",
                                        "text": [
                                                "/home/anjana/.local/lib/python3.10/site-packages/sklearn/metrics/_classification.py:1531: UndefinedMetricWarning: Precision is ill-defined and being set to 0.0 in labels with no predicted samples. Use `zero_division` parameter to control this behavior.\n",
                                                "  _warn_prf(average, modifier, f\"{metric.capitalize()} is\", len(result))\n",
                                                "/home/anjana/.local/lib/python3.10/site-packages/sklearn/metrics/_classification.py:1531: UndefinedMetricWarning: Precision is ill-defined and being set to 0.0 in labels with no predicted samples. Use `zero_division` parameter to control this behavior.\n",
                                                "  _warn_prf(average, modifier, f\"{metric.capitalize()} is\", len(result))\n",
                                                "/home/anjana/.local/lib/python3.10/site-packages/sklearn/metrics/_classification.py:1531: UndefinedMetricWarning: Precision is ill-defined and being set to 0.0 in labels with no predicted samples. Use `zero_division` parameter to control this behavior.\n",
                                                "  _warn_prf(average, modifier, f\"{metric.capitalize()} is\", len(result))\n"
                                        ]
                                }
                        ],
                        "source": [
                                "print(classification_report(df['label'], df['predicted_sentiment']))"
                        ]
                }
        ],
        "metadata": {
                "kernelspec": {
                        "display_name": "Python 3",
                        "language": "python",
                        "name": "python3"
                },
                "language_info": {
                        "codemirror_mode": {
                                "name": "ipython",
                                "version": 3
                        },
                        "file_extension": ".py",
                        "mimetype": "text/x-python",
                        "name": "python",
                        "nbconvert_exporter": "python",
                        "pygments_lexer": "ipython3",
                        "version": "3.10.12"
                }
        },
        "nbformat": 4,
        "nbformat_minor": 2
}
