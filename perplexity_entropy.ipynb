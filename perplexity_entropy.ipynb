{
 "cells": [
  {
   "cell_type": "code",
   "execution_count": 12,
   "metadata": {},
   "outputs": [],
   "source": [
    "import math\n",
    "from collections import Counter\n",
    "from nltk.util import ngrams\n",
    "import math"
   ]
  },
  {
   "cell_type": "code",
   "execution_count": 8,
   "metadata": {},
   "outputs": [
    {
     "name": "stdout",
     "output_type": "stream",
     "text": [
      "2.8453509366224368\n"
     ]
    }
   ],
   "source": [
    "def cal_entropy(text,total):\n",
    "    entropy = 0\n",
    "    char_count = Counter(text)\n",
    "    for count in char_count.values():\n",
    "        prob = count/total\n",
    "        entropy += -prob * math.log2(prob)\n",
    "    return entropy\n",
    "text = \"hello world\"\n",
    "total = len(text)\n",
    "print(cal_entropy(text, total))"
   ]
  },
  {
   "cell_type": "code",
   "execution_count": 9,
   "metadata": {},
   "outputs": [
    {
     "name": "stdout",
     "output_type": "stream",
     "text": [
      "7.186806966507558\n"
     ]
    }
   ],
   "source": [
    "def perplexity1(text, total):\n",
    "    return pow(2, cal_entropy(text, total))\n",
    "print(perplexity1(text, total))\n"
   ]
  },
  {
   "cell_type": "code",
   "execution_count": 15,
   "metadata": {},
   "outputs": [
    {
     "name": "stdout",
     "output_type": "stream",
     "text": [
      "0.5\n"
     ]
    }
   ],
   "source": [
    "def perplexity2(text):\n",
    "    words = text.split()\n",
    "    length = len(words)\n",
    "    total1 = -(1/length)\n",
    "    unigrams = list(ngrams(words, 1))\n",
    "    unigram_counts = Counter(unigrams)\n",
    "    entropy = 0\n",
    "    for unigram_count in unigram_counts.values():\n",
    "        entropy += math.log2(unigram_count/abs(total1))\n",
    "        \n",
    "    entropy = total1*entropy\n",
    "    return pow(2, entropy)\n",
    "print(perplexity2(text))"
   ]
  }
 ],
 "metadata": {
  "kernelspec": {
   "display_name": "Python 3 (ipykernel)",
   "language": "python",
   "name": "python3"
  },
  "language_info": {
   "codemirror_mode": {
    "name": "ipython",
    "version": 3
   },
   "file_extension": ".py",
   "mimetype": "text/x-python",
   "name": "python",
   "nbconvert_exporter": "python",
   "pygments_lexer": "ipython3",
   "version": "3.10.12"
  }
 },
 "nbformat": 4,
 "nbformat_minor": 4
}
