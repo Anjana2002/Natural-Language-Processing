{
 "cells": [
  {
   "cell_type": "code",
   "execution_count": 12,
   "metadata": {},
   "outputs": [],
   "source": [
    "import math\n",
    "from collections import Counter\n",
    "from nltk.util import ngrams\n",
    "import math"
   ]
  },
  {
   "cell_type": "code",
   "execution_count": 8,
   "metadata": {},
   "outputs": [
    {
     "name": "stdout",
     "output_type": "stream",
     "text": [
      "2.8453509366224368\n"
     ]
    }
   ],
   "source": [
    "def cal_entropy(text,total):\n",
    "    entropy = 0\n",
    "    char_count = Counter(text)\n",
    "    for count in char_count.values():\n",
    "        prob = count/total\n",
    "        entropy += -prob * math.log2(prob)\n",
    "    return entropy\n",
    "text = \"hello world\"\n",
    "total = len(text)\n",
    "print(cal_entropy(text, total))"
   ]
  },
  {
   "cell_type": "code",
   "execution_count": 9,
   "metadata": {},
   "outputs": [
    {
     "name": "stdout",
     "output_type": "stream",
     "text": [
      "7.186806966507558\n"
     ]
    }
   ],
   "source": [
    "def perplexity1(text, total):\n",
    "    return pow(2, cal_entropy(text, total))\n",
    "print(perplexity1(text, total))\n"
   ]
  },
  {
   "cell_type": "code",
   "execution_count": 14,
   "metadata": {},
   "outputs": [
    {
     "ename": "TypeError",
     "evalue": "unsupported operand type(s) for /: 'list' and 'float'",
     "output_type": "error",
     "traceback": [
      "\u001b[0;31m---------------------------------------------------------------------------\u001b[0m",
      "\u001b[0;31mTypeError\u001b[0m                                 Traceback (most recent call last)",
      "Cell \u001b[0;32mIn[14], line 12\u001b[0m\n\u001b[1;32m     10\u001b[0m     entropy \u001b[38;5;241m=\u001b[39m total1\u001b[38;5;241m*\u001b[39mentropy\n\u001b[1;32m     11\u001b[0m     \u001b[38;5;28;01mreturn\u001b[39;00m \u001b[38;5;28mpow\u001b[39m(\u001b[38;5;241m2\u001b[39m, entropy)\n\u001b[0;32m---> 12\u001b[0m \u001b[38;5;28mprint\u001b[39m(\u001b[43mperplexity2\u001b[49m\u001b[43m(\u001b[49m\u001b[43mtext\u001b[49m\u001b[43m)\u001b[49m)\n",
      "Cell \u001b[0;32mIn[14], line 9\u001b[0m, in \u001b[0;36mperplexity2\u001b[0;34m(text)\u001b[0m\n\u001b[1;32m      7\u001b[0m entropy \u001b[38;5;241m=\u001b[39m \u001b[38;5;241m0\u001b[39m\n\u001b[1;32m      8\u001b[0m \u001b[38;5;28;01mfor\u001b[39;00m unigram_count \u001b[38;5;129;01min\u001b[39;00m unigram_counts\u001b[38;5;241m.\u001b[39mvalues():\n\u001b[0;32m----> 9\u001b[0m     entropy \u001b[38;5;241m+\u001b[39m\u001b[38;5;241m=\u001b[39m math\u001b[38;5;241m.\u001b[39mlog2(\u001b[43munigrams\u001b[49m\u001b[38;5;241;43m/\u001b[39;49m\u001b[38;5;28;43mabs\u001b[39;49m\u001b[43m(\u001b[49m\u001b[43mtotal1\u001b[49m\u001b[43m)\u001b[49m)\n\u001b[1;32m     10\u001b[0m entropy \u001b[38;5;241m=\u001b[39m total1\u001b[38;5;241m*\u001b[39mentropy\n\u001b[1;32m     11\u001b[0m \u001b[38;5;28;01mreturn\u001b[39;00m \u001b[38;5;28mpow\u001b[39m(\u001b[38;5;241m2\u001b[39m, entropy)\n",
      "\u001b[0;31mTypeError\u001b[0m: unsupported operand type(s) for /: 'list' and 'float'"
     ]
    }
   ],
   "source": [
    "def perplexity2(text):\n",
    "    words = text.split()\n",
    "    length = len(words)\n",
    "    total1 = -(1/length)\n",
    "    unigrams = list(ngrams(words, 1))\n",
    "    unigram_counts = Counter(unigrams)\n",
    "    entropy = 0\n",
    "    for unigram_count in unigram_counts.values():\n",
    "        entropy += math.log2(unigrams/abs(total1))\n",
    "        \n",
    "    entropy = total1*entropy\n",
    "    return pow(2, entropy)\n",
    "print(perplexity2(text))"
   ]
  }
 ],
 "metadata": {
  "kernelspec": {
   "display_name": "Python 3 (ipykernel)",
   "language": "python",
   "name": "python3"
  },
  "language_info": {
   "codemirror_mode": {
    "name": "ipython",
    "version": 3
   },
   "file_extension": ".py",
   "mimetype": "text/x-python",
   "name": "python",
   "nbconvert_exporter": "python",
   "pygments_lexer": "ipython3",
   "version": "3.10.12"
  }
 },
 "nbformat": 4,
 "nbformat_minor": 4
}
