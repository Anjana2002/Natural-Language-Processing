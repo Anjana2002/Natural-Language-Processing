{
 "cells": [
  {
   "cell_type": "code",
   "execution_count": 1,
   "metadata": {},
   "outputs": [],
   "source": [
    "#Implement a basic morphological parser using regular expressions in Python that can distinguish between different morphological forms of a given set of words.\n",
    "import re\n",
    "morph_rules = [\n",
    "    (r'(.*)s$', lambda root: f'{root}+N+Pl'),\n",
    "    (r'(.*)ed$', lambda root: f'{root}+V+Past'),\n",
    "    (r'(.*)ing$', lambda root: f'{root}+V+prog'),\n",
    "    (r'(.*)er$', lambda root: f'{root}+N+Comp'),\n",
    "    (r'(.*)est$', lambda root: f'{root}+N+Sup'),\n",
    "    (r'(.*)ly$', lambda root: f'{root}+Adv')\n",
    "]"
   ]
  },
  {
   "cell_type": "code",
   "execution_count": 4,
   "metadata": {},
   "outputs": [],
   "source": [
    "default_rule = lambda word: f'{word}+base'\n",
    "def morphological_parse(word):\n",
    "    for pattern, action in morph_rules:\n",
    "        match = re.match(pattern, word)\n",
    "        if match:\n",
    "            root = match.group(1)\n",
    "            return f'word-{action(root)}'\n",
    "    return f'{word}-{default_rule(word)}'"
   ]
  },
  {
   "cell_type": "code",
   "execution_count": 5,
   "metadata": {},
   "outputs": [
    {
     "name": "stdout",
     "output_type": "stream",
     "text": [
      "word-cat+N+Pl\n",
      "caught-caught+base\n",
      "word-catch+V+prog\n",
      "word-fast+N+Comp\n",
      "word-fast+N+Sup\n",
      "word-quick+Adv\n"
     ]
    }
   ],
   "source": [
    "test_words = ['cats', 'caught', 'catching','faster','fastest','quickly']\n",
    "for word in test_words:\n",
    "    print(morphological_parse(word))"
   ]
  }
 ],
 "metadata": {
  "kernelspec": {
   "display_name": "Python 3 (ipykernel)",
   "language": "python",
   "name": "python3"
  },
  "language_info": {
   "codemirror_mode": {
    "name": "ipython",
    "version": 3
   },
   "file_extension": ".py",
   "mimetype": "text/x-python",
   "name": "python",
   "nbconvert_exporter": "python",
   "pygments_lexer": "ipython3",
   "version": "3.10.12"
  }
 },
 "nbformat": 4,
 "nbformat_minor": 4
}
