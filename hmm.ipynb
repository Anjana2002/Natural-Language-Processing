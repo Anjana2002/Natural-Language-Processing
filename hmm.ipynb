{
 "cells": [
  {
   "cell_type": "code",
   "execution_count": 13,
   "id": "773d7c73-669a-41f2-aac1-e6ef21723f7d",
   "metadata": {},
   "outputs": [],
   "source": [
    "import nltk\n",
    "from nltk.corpus import treebank\n",
    "from nltk.tag.hmm import HiddenMarkovModelTrainer\n",
    "from nltk.tokenize import sent_tokenize, word_tokenize\n",
    "nltk.data.path.append('\\home\\anjana\\nltk_data')"
   ]
  },
  {
   "cell_type": "code",
   "execution_count": 14,
   "id": "53787dc7-eda6-4c1c-b8f4-6e0d9272a135",
   "metadata": {},
   "outputs": [],
   "source": [
    "def trainer():\n",
    "    tagged_sen = treebank.tagged_sents(tagset='universal')\n",
    "    trainer = HiddenMarkovModelTrainer()\n",
    "    hmm_tagger = trainer.train(tagged_sen)\n",
    "    return hmm_tagger\n",
    "hmm_tagger = trainer()"
   ]
  },
  {
   "cell_type": "code",
   "execution_count": 15,
   "id": "95d998ed-1e22-4106-aa88-5820138fe427",
   "metadata": {},
   "outputs": [],
   "source": [
    "def pos_tag(sentence, tagger):\n",
    "    sent_text = sent_tokenize(sentence)\n",
    "    full_tagged = []\n",
    "    for sent in sent_text:\n",
    "        tokens = word_tokenize(sent)\n",
    "        tagged = tagger.tag(tokens)\n",
    "        full_tagged.append(tagged)\n",
    "    return full_tagged\n",
    "    "
   ]
  },
  {
   "cell_type": "code",
   "execution_count": 16,
   "id": "40d8ea2c-19d0-4152-85e7-522867245cb2",
   "metadata": {},
   "outputs": [
    {
     "name": "stdin",
     "output_type": "stream",
     "text": [
      "Enter the sentence to tag:  I am Anjana\n"
     ]
    },
    {
     "name": "stderr",
     "output_type": "stream",
     "text": [
      "/home/anjana/.local/lib/python3.10/site-packages/nltk/tag/hmm.py:335: RuntimeWarning: overflow encountered in cast\n",
      "  O[i, k] = self._output_logprob(si, self._symbols[k])\n"
     ]
    },
    {
     "name": "stdout",
     "output_type": "stream",
     "text": [
      "Tagged Output:  [[('I', 'PRON'), ('am', 'VERB'), ('Anjana', 'NOUN')]]\n"
     ]
    },
    {
     "name": "stderr",
     "output_type": "stream",
     "text": [
      "/home/anjana/.local/lib/python3.10/site-packages/nltk/tag/hmm.py:363: RuntimeWarning: overflow encountered in cast\n",
      "  O[i, k] = self._output_logprob(si, self._symbols[k])\n"
     ]
    }
   ],
   "source": [
    "user_input = input('Enter the sentence to tag: ')\n",
    "tagged_output = pos_tag(user_input, hmm_tagger)\n",
    "# Print the tagged output\n",
    "print('Tagged Output: ', tagged_output)"
   ]
  }
 ],
 "metadata": {
  "kernelspec": {
   "display_name": "Python 3 (ipykernel)",
   "language": "python",
   "name": "python3"
  },
  "language_info": {
   "codemirror_mode": {
    "name": "ipython",
    "version": 3
   },
   "file_extension": ".py",
   "mimetype": "text/x-python",
   "name": "python",
   "nbconvert_exporter": "python",
   "pygments_lexer": "ipython3",
   "version": "3.10.12"
  }
 },
 "nbformat": 4,
 "nbformat_minor": 5
}
